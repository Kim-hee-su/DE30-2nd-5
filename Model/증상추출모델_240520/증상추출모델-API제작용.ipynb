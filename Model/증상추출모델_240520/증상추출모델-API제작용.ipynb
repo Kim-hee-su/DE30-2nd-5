{
 "cells": [
  {
   "cell_type": "markdown",
   "metadata": {
    "id": "OnCvh4HyJYcw"
   },
   "source": [
    "# 버전확인"
   ]
  },
  {
   "cell_type": "code",
   "execution_count": 2,
   "metadata": {
    "colab": {
     "base_uri": "https://localhost:8080/"
    },
    "id": "ElwWhhE4EMF5",
    "outputId": "eda1cca8-e821-48f1-e9b0-4fcd29dacfcf"
   },
   "outputs": [
    {
     "name": "stdout",
     "output_type": "stream",
     "text": [
      "scikit-learn 버전: 1.3.2\n"
     ]
    }
   ],
   "source": [
    "import sklearn\n",
    "print(\"scikit-learn 버전:\", sklearn.__version__)"
   ]
  },
  {
   "cell_type": "code",
   "execution_count": 3,
   "metadata": {},
   "outputs": [
    {
     "name": "stdout",
     "output_type": "stream",
     "text": [
      "Note: you may need to restart the kernel to use updated packages.\n"
     ]
    },
    {
     "name": "stderr",
     "output_type": "stream",
     "text": [
      "ERROR: Could not find a version that satisfies the requirement pickle (from versions: none)\n",
      "ERROR: No matching distribution found for pickle\n"
     ]
    }
   ],
   "source": [
    "pip install pickle"
   ]
  },
  {
   "cell_type": "code",
   "execution_count": 4,
   "metadata": {},
   "outputs": [],
   "source": [
    "# 수정사항 1 - konlpy 설치를 위해 자바홈 설정\n",
    "import os\n",
    "os.environ['JAVA_HOME'] = 'C:\\Program Files\\Java\\jdk-17'  # 설치 경로에 맞게 수정"
   ]
  },
  {
   "cell_type": "code",
   "execution_count": 5,
   "metadata": {},
   "outputs": [
    {
     "ename": "SyntaxError",
     "evalue": "invalid syntax (2506537345.py, line 2)",
     "output_type": "error",
     "traceback": [
      "\u001b[1;36m  Cell \u001b[1;32mIn[5], line 2\u001b[1;36m\u001b[0m\n\u001b[1;33m    pip install konlpy\u001b[0m\n\u001b[1;37m        ^\u001b[0m\n\u001b[1;31mSyntaxError\u001b[0m\u001b[1;31m:\u001b[0m invalid syntax\n"
     ]
    }
   ],
   "source": [
    "# 수정사항 2 - konlpy 설치\n",
    "pip install konlpy"
   ]
  },
  {
   "cell_type": "code",
   "execution_count": 6,
   "metadata": {},
   "outputs": [
    {
     "name": "stdout",
     "output_type": "stream",
     "text": [
      "konlpy 버전: 0.6.0\n"
     ]
    }
   ],
   "source": [
    "import konlpy\n",
    "\n",
    "print(\"konlpy 버전:\", konlpy.__version__)"
   ]
  },
  {
   "cell_type": "markdown",
   "metadata": {
    "id": "zIypwoCkBGNI"
   },
   "source": [
    "# API 구현 예제"
   ]
  },
  {
   "cell_type": "code",
   "execution_count": 12,
   "metadata": {
    "id": "8akOVD9WHf01"
   },
   "outputs": [
    {
     "name": "stderr",
     "output_type": "stream",
     "text": [
      "C:\\Users\\user\\miniconda3\\envs\\ml2\\lib\\site-packages\\sklearn\\base.py:348: InconsistentVersionWarning: Trying to unpickle estimator TfidfTransformer from version 1.2.2 when using version 1.3.2. This might lead to breaking code or invalid results. Use at your own risk. For more info please refer to:\n",
      "https://scikit-learn.org/stable/model_persistence.html#security-maintainability-limitations\n",
      "  warnings.warn(\n",
      "C:\\Users\\user\\miniconda3\\envs\\ml2\\lib\\site-packages\\sklearn\\base.py:348: InconsistentVersionWarning: Trying to unpickle estimator TfidfVectorizer from version 1.2.2 when using version 1.3.2. This might lead to breaking code or invalid results. Use at your own risk. For more info please refer to:\n",
      "https://scikit-learn.org/stable/model_persistence.html#security-maintainability-limitations\n",
      "  warnings.warn(\n"
     ]
    }
   ],
   "source": [
    "# from flask import Flask, request, jsonify\n",
    "import pandas as pd\n",
    "from sklearn.metrics.pairwise import cosine_similarity\n",
    "import numpy as np\n",
    "import pickle\n",
    "\n",
    "# 수정사항3-  konlpy 임포트\n",
    "from konlpy.tag import Kkma\n",
    "\n",
    "# 수정사항4 - Kkma 인스턴스 초기화\n",
    "kkma = Kkma()\n",
    "\n",
    "# app = Flask(__name__)\n",
    "\n",
    "# 수정사항7 - pkl파일 변경\n",
    "# 저장된 전처리 데이터를 로드\n",
    "with open('processed_data.pkl', 'rb') as f:\n",
    "    data, tokenized_symptoms, tfidf_matrix, vectorizer = pickle.load(f)\n",
    "\n",
    "# @app.route('/predict', methods=['POST'])\n",
    "def predict(input_value_raw):\n",
    "    # input_value_raw = request.json.get('symptoms')\n",
    "    input_values = input_value_raw.split(\",\")\n",
    "\n",
    "    # selected_symptoms_info 리스트 초기화: 선택된 증상 정보를 저장합니다.\n",
    "    selected_symptoms_info = []\n",
    "\n",
    "    # selected_symptoms_id_set 집합 초기화: 선택된 증상의 ID를 저장하여 중복을 방지합니다.\n",
    "    selected_symptoms_id_set = set()\n",
    "\n",
    "    # 수정사항5 - 형태소 분석을 통해 입력 값을 토큰화\n",
    "    input_tokenized = [\" \".join(kkma.morphs(input_value)) for input_value in input_values]\n",
    "    \n",
    "    for input_value, input_tok in zip(input_values, input_tokenized):\n",
    "        for index, row in data.iterrows():\n",
    "            symptom = row['symptoms']\n",
    "            if symptom in input_value:\n",
    "                # symptoms이 완전히 일치하는 경우에 대해 처리\n",
    "                if row['symptom_ids'] not in selected_symptoms_id_set:\n",
    "                    selected_symptoms_info.append((symptom, 1.0, row['symptom_ids'], row['symptom_describe']))\n",
    "                    selected_symptoms_id_set.add(row['symptom_ids'])\n",
    "    \n",
    "        # 타겟 문장의 TF-IDF 벡터화\n",
    "        target_vector = vectorizer.transform([input_tok])\n",
    "    \n",
    "        # 증상과 타겟 문장 간의 유사도 계산\n",
    "        similarities = cosine_similarity(target_vector, tfidf_matrix)\n",
    "    \n",
    "        # 유사도를 리스트로 변환\n",
    "        similarity_list = similarities.flatten()\n",
    "        \n",
    "        # 유사도 임계값 설정\n",
    "        similarity_threshold = 0.35\n",
    "\n",
    "        # 수정사항6 - 유사도 리스트를 내림차순 정렬 및 10개 추출 부분 수정 \n",
    "        # 유사도 기반으로 상위 10개의 증상 선택\n",
    "        top_indices = similarity_list.argsort()[-10:][::-1]  # 상위 10개의 인덱스를 유사도 기준으로 내림차순 정렬\n",
    "        for idx in top_indices:\n",
    "            if similarity_list[idx] > similarity_threshold:  # 유사도가 0보다 큰 경우만 처리\n",
    "                symptom = data.loc[idx, 'symptoms']\n",
    "                if data.loc[idx, 'symptom_ids'] not in selected_symptoms_id_set:\n",
    "                    selected_symptoms_info.append((symptom, similarity_list[idx], data.loc[idx, 'symptom_ids'], data.loc[idx, 'symptom_describe']))\n",
    "                    selected_symptoms_id_set.add(data.loc[idx, 'symptom_ids'])\n",
    "\n",
    "    # 최종적으로 selected_symptoms_info에는 중복되지 않은 증상 정보가 최대 10개까지 저장됩니다.\n",
    "    response = []\n",
    "    for i, (symptom, similarity, symptom_id, symptom_description) in enumerate(selected_symptoms_info, 1):\n",
    "        response.append({\n",
    "            \"symptom\": symptom,\n",
    "            \"symptom_id\": symptom_id,\n",
    "            \"similarity\": similarity,\n",
    "            \"symptom_description\": symptom_description\n",
    "        })\n",
    "\n",
    "    # 수정사항7 - response 내림차순 정렬 \n",
    "    # similarity 값 기준으로 내림차순 정렬\n",
    "    response = sorted(response, key=lambda x: x['similarity'], reverse=True)\n",
    "\n",
    "    if not response:\n",
    "        return None\n",
    "    return response\n",
    "\n",
    "# if __name__ == '__main__':\n",
    "#     app.run(debug=True)\n"
   ]
  },
  {
   "cell_type": "code",
   "execution_count": 13,
   "metadata": {
    "colab": {
     "base_uri": "https://localhost:8080/"
    },
    "id": "dyFuLwOwEFEv",
    "outputId": "48b784bd-2c77-44cb-ef0c-6a1a73abf840"
   },
   "outputs": [
    {
     "data": {
      "text/plain": [
       "[{'symptom': '기침',\n",
       "  'symptom_id': 'SS000868',\n",
       "  'similarity': 1.0,\n",
       "  'symptom_description': '기도 분비물이나 외부 먼지, 미생물 등을 제거하기 위해 갑작스럽게 숨을 내뿜는 반사 행동\\n'},\n",
       " {'symptom': '떨림(진전)',\n",
       "  'symptom_id': 'SS000710',\n",
       "  'similarity': 0.6245823203071182,\n",
       "  'symptom_description': '떨림 (떨림)'},\n",
       " {'symptom': '손떨림',\n",
       "  'symptom_id': 'SS000500',\n",
       "  'similarity': 0.5581655495853738,\n",
       "  'symptom_description': '손이 떨리는 상태\\n'},\n",
       " {'symptom': '치아 흔들림',\n",
       "  'symptom_id': 'SS000579',\n",
       "  'similarity': 0.4754387435848986,\n",
       "  'symptom_description': '이가 떨리는 소리'},\n",
       " {'symptom': '객혈',\n",
       "  'symptom_id': 'SS000863',\n",
       "  'similarity': 0.4247109009279538,\n",
       "  'symptom_description': '혈액이 섞인 가래가 기침과 함께 나오는 것\\n'},\n",
       " {'symptom': '온몸이 떨림',\n",
       "  'symptom_id': 'SS000689',\n",
       "  'similarity': 0.36369876122973926,\n",
       "  'symptom_description': '온몸이 떨리는 증상'},\n",
       " {'symptom': '사래걸림',\n",
       "  'symptom_id': 'SS000876',\n",
       "  'similarity': 0.350152969197988,\n",
       "  'symptom_description': '기관, 기관지, 폐에 이물질을 흡입하여 발생하는 기침 등의 호흡기 반응'}]"
      ]
     },
     "execution_count": 13,
     "metadata": {},
     "output_type": "execute_result"
    }
   ],
   "source": [
    "predict(\"기침, 손발이 떨림\")"
   ]
  },
  {
   "cell_type": "code",
   "execution_count": null,
   "metadata": {},
   "outputs": [],
   "source": [
    "기침, 떨림(진전), 손떨림, 치아 흔들림, 객혈, 온몸이 떨림, 사래걸림"
   ]
  },
  {
   "cell_type": "code",
   "execution_count": null,
   "metadata": {},
   "outputs": [],
   "source": []
  }
 ],
 "metadata": {
  "colab": {
   "provenance": []
  },
  "kernelspec": {
   "display_name": "Python 3 (ipykernel)",
   "language": "python",
   "name": "python3"
  },
  "language_info": {
   "codemirror_mode": {
    "name": "ipython",
    "version": 3
   },
   "file_extension": ".py",
   "mimetype": "text/x-python",
   "name": "python",
   "nbconvert_exporter": "python",
   "pygments_lexer": "ipython3",
   "version": "3.8.19"
  }
 },
 "nbformat": 4,
 "nbformat_minor": 4
}
