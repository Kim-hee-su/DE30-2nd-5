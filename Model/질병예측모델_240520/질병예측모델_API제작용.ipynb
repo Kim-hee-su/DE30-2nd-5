{
 "cells": [
  {
   "cell_type": "markdown",
   "id": "bb3bc379-3027-422e-90e2-4fd7ecb7de8d",
   "metadata": {},
   "source": [
    "# 모델, 데이터 불러와서 결괏값 출력까지\n",
    "- API제작을 위한 공유용 노트"
   ]
  },
  {
   "cell_type": "markdown",
   "id": "3f81bc55-9cfe-4d6b-bf4b-7fad66cfaeea",
   "metadata": {},
   "source": [
    "## 코드 작성"
   ]
  },
  {
   "cell_type": "code",
   "execution_count": 2,
   "id": "59586c40-9c1e-40e2-9ca0-fd3eb88d17d8",
   "metadata": {},
   "outputs": [
    {
     "data": {
      "text/plain": [
       "'C:\\\\Users\\\\user\\\\Desktop\\\\개발\\\\git_code\\\\2차_미니프로젝트\\\\Model\\\\notebooks\\\\질병예측모델_240520'"
      ]
     },
     "execution_count": 2,
     "metadata": {},
     "output_type": "execute_result"
    }
   ],
   "source": [
    "pwd"
   ]
  },
  {
   "cell_type": "code",
   "execution_count": 4,
   "id": "d73af50f-2bca-452d-9421-bd369cc6d2a6",
   "metadata": {},
   "outputs": [],
   "source": [
    "# from flask import Flask, request, jsonify\n",
    "import pickle\n",
    "from gensim.models import Word2Vec\n",
    "import numpy as np\n",
    "\n",
    "\n",
    "# 모델과 데이터 로드\n",
    "model = Word2Vec.load(\"./model/240517_final.model\")\n",
    "\n",
    "# disease_list.pkl파일은 공유하지 않음\n",
    "with open('./disease_list.pkl', 'rb') as f:\n",
    "    disease_list = pickle.load(f)\n",
    "\n",
    "def predict(input_symptoms):\n",
    "\n",
    "    # 질병 리스트\n",
    "    diseases = disease_list\n",
    "    \n",
    "    # 각 증상에 대해 가장 유사한 질병과 그 유사도 찾기\n",
    "    symptom_to_diseases_similarity = {}\n",
    "    for symptom in input_symptoms:\n",
    "        try:\n",
    "            similar_words = model.wv.most_similar(symptom, topn=300)\n",
    "            symptom_to_diseases_similarity[symptom] = [(word, similarity) for word, similarity in similar_words if word in diseases]\n",
    "        except KeyError:\n",
    "            pass\n",
    "    \n",
    "    # 질병별로 증상과의 유사도 및 일치하는 증상 수 저장\n",
    "    disease_similarity_info = {}\n",
    "    for symptom, diseases_similarities in symptom_to_diseases_similarity.items():\n",
    "        for disease, similarity in diseases_similarities:\n",
    "            if disease in disease_similarity_info:\n",
    "                disease_similarity_info[disease]['count'] += 1\n",
    "                disease_similarity_info[disease]['similarities'].append(similarity)\n",
    "            else:\n",
    "                disease_similarity_info[disease] = {'count': 1, 'similarities': [similarity]}\n",
    "    \n",
    "    # 증상이 2개 이상 일치하는 질병 필터링 및 평균 유사도 계산\n",
    "    if len(symptom_to_diseases_similarity.keys()) == 1:\n",
    "        filtered_diseases = [(disease, info['count'], np.mean(info['similarities']), info['similarities']) \n",
    "                         for disease, info in disease_similarity_info.items() if info['count'] >= 1]\n",
    "    else:\n",
    "        filtered_diseases = [(disease, info['count'], np.mean(info['similarities']), info['similarities']) \n",
    "                         for disease, info in disease_similarity_info.items() if info['count'] >= 2]\n",
    "    \n",
    "    # 증상 일치 수 및 평균 유사도에 따라 정렬\n",
    "    filtered_diseases.sort(key=lambda x: (x[1], x[2]), reverse=True)\n",
    "    \n",
    "    # 상위 5개 출력\n",
    "    top_diseases = filtered_diseases[:5]\n",
    "    \n",
    "    result = [{\"질병\": disease, \"일치하는 증상 수\": count, \"평균 유사도\": avg_similarity, \"증상별 유사도\": similarities} \n",
    "              for disease, count, avg_similarity, similarities in top_diseases]\n",
    "    \n",
    "    return result\n"
   ]
  },
  {
   "cell_type": "markdown",
   "id": "98b40f9c-b6f3-4c9c-bf88-ddc62608ba0a",
   "metadata": {},
   "source": [
    "## 예측하기"
   ]
  },
  {
   "cell_type": "code",
   "execution_count": 15,
   "id": "12aeb27f-367e-42f1-b3fa-aeb85e5f7f34",
   "metadata": {},
   "outputs": [
    {
     "data": {
      "text/plain": [
       "[{'질병': '동맥색전증 및 혈전증(Arterial embolism and thrombosis)',\n",
       "  '일치하는 증상 수': 5,\n",
       "  '평균 유사도': 0.9958996534347534,\n",
       "  '증상별 유사도': [0.9976767301559448,\n",
       "   0.9933732748031616,\n",
       "   0.9974362850189209,\n",
       "   0.9968411922454834,\n",
       "   0.9941707849502563]},\n",
       " {'질병': '외상성 치매 (Traumatic dementia)',\n",
       "  '일치하는 증상 수': 5,\n",
       "  '평균 유사도': 0.9958613395690918,\n",
       "  '증상별 유사도': [0.9976925849914551,\n",
       "   0.993455708026886,\n",
       "   0.9974370002746582,\n",
       "   0.9968697428703308,\n",
       "   0.9938516616821289]},\n",
       " {'질병': '기분부전증(Dysthymia)',\n",
       "  '일치하는 증상 수': 5,\n",
       "  '평균 유사도': 0.9958328127861023,\n",
       "  '증상별 유사도': [0.9978289008140564,\n",
       "   0.9930130839347839,\n",
       "   0.9973030686378479,\n",
       "   0.997012734413147,\n",
       "   0.9940062761306763]},\n",
       " {'질병': '비정형 파킨슨 증후군(Atypical Parkinsonism)',\n",
       "  '일치하는 증상 수': 5,\n",
       "  '평균 유사도': 0.9958099484443664,\n",
       "  '증상별 유사도': [0.9979000687599182,\n",
       "   0.9929311275482178,\n",
       "   0.997713565826416,\n",
       "   0.9968559741973877,\n",
       "   0.9936490058898926]},\n",
       " {'질병': '망상 장애(Delusional disorder)',\n",
       "  '일치하는 증상 수': 5,\n",
       "  '평균 유사도': 0.9956621408462525,\n",
       "  '증상별 유사도': [0.9971085786819458,\n",
       "   0.9923277497291565,\n",
       "   0.9974125623703003,\n",
       "   0.9971820116043091,\n",
       "   0.9942798018455505]}]"
      ]
     },
     "execution_count": 15,
     "metadata": {},
     "output_type": "execute_result"
    }
   ],
   "source": [
    "predict(['기침', '떨림(진전)', '손떨림', '치아 흔들림', '객혈', '온몸이 떨림', '사래걸림'])"
   ]
  },
  {
   "cell_type": "code",
   "execution_count": null,
   "id": "11d1fb03-f2d9-407b-b919-22c2b170f2b1",
   "metadata": {},
   "outputs": [],
   "source": []
  }
 ],
 "metadata": {
  "kernelspec": {
   "display_name": "Python 3 (ipykernel)",
   "language": "python",
   "name": "python3"
  },
  "language_info": {
   "codemirror_mode": {
    "name": "ipython",
    "version": 3
   },
   "file_extension": ".py",
   "mimetype": "text/x-python",
   "name": "python",
   "nbconvert_exporter": "python",
   "pygments_lexer": "ipython3",
   "version": "3.8.19"
  }
 },
 "nbformat": 4,
 "nbformat_minor": 5
}
