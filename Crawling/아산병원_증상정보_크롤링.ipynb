{
 "cells": [
  {
   "cell_type": "markdown",
   "id": "cb354588-dce3-4433-8f55-38a7e7369346",
   "metadata": {},
   "source": [
    "# 아산병원 증상 정보 크롤링"
   ]
  },
  {
   "cell_type": "code",
   "execution_count": 1,
   "id": "7c6cb5cc-596a-478d-aaab-6131504b68ef",
   "metadata": {},
   "outputs": [],
   "source": [
    "import pandas as pd\n",
    "import numpy as np"
   ]
  },
  {
   "cell_type": "code",
   "execution_count": 2,
   "id": "b2b33233-0124-42fa-9106-bbec677218c2",
   "metadata": {},
   "outputs": [],
   "source": [
    "# 미리 수집한 질환백과 속 증상id 사용 \n",
    "#CSV 파일 경로\n",
    "file_path = './../Data/diseases_240510.csv'\n",
    "\n",
    "# CSV 파일 읽기\n",
    "df = pd.read_csv(file_path)\n",
    "df = df.dropna(subset=['symptoms'])"
   ]
  },
  {
   "cell_type": "code",
   "execution_count": 3,
   "id": "ccecefc3-ba55-4341-994a-02d87dcda431",
   "metadata": {
    "scrolled": true
   },
   "outputs": [],
   "source": [
    "# 모든 증상코드를 저장할 빈 집합을 만듭니다. 집합은 중복된 값을 저장하지 않습니다.\n",
    "all_codes_set = set()\n",
    "\n",
    "# 각 행(질병)에 대해 반복\n",
    "for row in df['symptom_ids']:\n",
    "    codes = row.split(',')\n",
    "    all_codes_set.update(codes)\n",
    "\n",
    "all_codes_list = list(all_codes_set)"
   ]
  },
  {
   "cell_type": "code",
   "execution_count": 4,
   "id": "317a0609-1e0f-4a29-8e89-72343e8b7c83",
   "metadata": {
    "scrolled": true
   },
   "outputs": [
    {
     "name": "stdout",
     "output_type": "stream",
     "text": [
      "SS000251  끝\n",
      "SS000861  끝\n",
      "CSV 파일이 성공적으로 생성되었습니다.\n"
     ]
    }
   ],
   "source": [
    "import requests\n",
    "from bs4 import BeautifulSoup\n",
    "import csv\n",
    "\n",
    "# CSV 파일에 저장할 헤더\n",
    "header = ['symptoms', 'symptom_ids', 'symptom_describe']\n",
    "\n",
    "# CSV 파일 열기\n",
    "with open('./../Data/symptom_description.csv', 'w', newline='', encoding='utf-8') as csvfile:\n",
    "    writer = csv.writer(csvfile)\n",
    "    writer.writerow(header)\n",
    "\n",
    "    # 질병 종류별 순환\n",
    "    symptom_ids_list = all_codes_list\n",
    "    \n",
    "    for id in symptom_ids_list: \n",
    "        try: \n",
    "            url = f'https://www.amc.seoul.kr/asan/healthinfo/symptom/symptomDetail.do?symptomId={id}'\n",
    "            response = requests.get(url)\n",
    "            soup = BeautifulSoup(response.text, 'html.parser')\n",
    "    \n",
    "            \n",
    "            symptoms = soup.select_one('h1 > span').text\n",
    "            symptom_ids = id\n",
    "            symptom_describe = soup.select_one('#popupWrap > div.popContent > div').text\n",
    "    \n",
    "           \n",
    "            # CSV 파일에 추가\n",
    "            writer.writerow([symptoms, symptom_ids, symptom_describe])\n",
    "            print(id, \" 끝\")\n",
    "        except:\n",
    "            print(id, e)\n",
    "    \n",
    "print(\"CSV 파일이 성공적으로 생성되었습니다.\")\n"
   ]
  },
  {
   "cell_type": "code",
   "execution_count": 43,
   "id": "c9d60958-fe76-4ea4-968d-9cfb652e997f",
   "metadata": {},
   "outputs": [],
   "source": []
  },
  {
   "cell_type": "code",
   "execution_count": null,
   "id": "1646cfc9-b7b3-482d-bb46-359d4ece6d60",
   "metadata": {},
   "outputs": [],
   "source": []
  }
 ],
 "metadata": {
  "kernelspec": {
   "display_name": "Python 3 (ipykernel)",
   "language": "python",
   "name": "python3"
  },
  "language_info": {
   "codemirror_mode": {
    "name": "ipython",
    "version": 3
   },
   "file_extension": ".py",
   "mimetype": "text/x-python",
   "name": "python",
   "nbconvert_exporter": "python",
   "pygments_lexer": "ipython3",
   "version": "3.8.19"
  }
 },
 "nbformat": 4,
 "nbformat_minor": 5
}
